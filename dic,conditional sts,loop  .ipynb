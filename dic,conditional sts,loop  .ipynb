{
 "cells": [
  {
   "cell_type": "code",
   "execution_count": 2,
   "id": "75142be9-2d79-4843-82d3-db30453d13ee",
   "metadata": {},
   "outputs": [],
   "source": [
    "s5={45,3,4,5,5,6,\"able\",34}"
   ]
  },
  {
   "cell_type": "code",
   "execution_count": 4,
   "id": "a3e83660-8812-4a16-8b86-4c27234875e8",
   "metadata": {},
   "outputs": [],
   "source": [
    "s5.remove(4)"
   ]
  },
  {
   "cell_type": "code",
   "execution_count": 6,
   "id": "c4bee688-be42-4367-be06-0c0b5feab843",
   "metadata": {},
   "outputs": [
    {
     "data": {
      "text/plain": [
       "{3, 34, 45, 5, 6, 'able'}"
      ]
     },
     "execution_count": 6,
     "metadata": {},
     "output_type": "execute_result"
    }
   ],
   "source": [
    "s5"
   ]
  },
  {
   "cell_type": "code",
   "execution_count": 8,
   "id": "40ed27bd-6784-44d1-9d7c-517eb03a457b",
   "metadata": {},
   "outputs": [],
   "source": [
    " d= {}"
   ]
  },
  {
   "cell_type": "code",
   "execution_count": 10,
   "id": "1d8d1305-a031-4182-8a53-b1d0617219c1",
   "metadata": {},
   "outputs": [
    {
     "data": {
      "text/plain": [
       "dict"
      ]
     },
     "execution_count": 10,
     "metadata": {},
     "output_type": "execute_result"
    }
   ],
   "source": [
    "type(d)"
   ]
  },
  {
   "cell_type": "code",
   "execution_count": 12,
   "id": "0e668bdd-3828-449a-9ff8-9591208554f2",
   "metadata": {},
   "outputs": [],
   "source": [
    "d1= {'key':\"sudh\"}"
   ]
  },
  {
   "cell_type": "code",
   "execution_count": 14,
   "id": "cc6eec08-946e-409f-86a1-31b65dd8ef2c",
   "metadata": {},
   "outputs": [
    {
     "data": {
      "text/plain": [
       "{'key': 'sudh'}"
      ]
     },
     "execution_count": 14,
     "metadata": {},
     "output_type": "execute_result"
    }
   ],
   "source": [
    "d1"
   ]
  },
  {
   "cell_type": "code",
   "execution_count": 18,
   "id": "6d774ecc-3f1f-4fd9-83e5-bccebfafbcc1",
   "metadata": {},
   "outputs": [],
   "source": [
    "d2={'name':\"fazal\",\"email\":\"ss@gmali.com\",\"number\":38573566}"
   ]
  },
  {
   "cell_type": "code",
   "execution_count": 20,
   "id": "b20570d0-2570-4879-9765-a8a0e5b689b4",
   "metadata": {},
   "outputs": [
    {
     "data": {
      "text/plain": [
       "{'name': 'fazal', 'email': 'ss@gmali.com', 'number': 38573566}"
      ]
     },
     "execution_count": 20,
     "metadata": {},
     "output_type": "execute_result"
    }
   ],
   "source": [
    " d2"
   ]
  },
  {
   "cell_type": "code",
   "execution_count": 22,
   "id": "2fca1712-a956-468c-acf6-8f6e3606c36b",
   "metadata": {},
   "outputs": [],
   "source": [
    "d3={3342:\"sudh\",True:252}"
   ]
  },
  {
   "cell_type": "code",
   "execution_count": 24,
   "id": "430a6676-eea8-4724-b853-f54a7baf80e3",
   "metadata": {},
   "outputs": [
    {
     "data": {
      "text/plain": [
       "{3342: 'sudh', True: 252}"
      ]
     },
     "execution_count": 24,
     "metadata": {},
     "output_type": "execute_result"
    }
   ],
   "source": [
    "d3"
   ]
  },
  {
   "cell_type": "code",
   "execution_count": 28,
   "id": "87819875-23a7-4ec1-b733-976349102e4e",
   "metadata": {},
   "outputs": [
    {
     "data": {
      "text/plain": [
       "'sudh'"
      ]
     },
     "execution_count": 28,
     "metadata": {},
     "output_type": "execute_result"
    }
   ],
   "source": [
    "d3[3342]"
   ]
  },
  {
   "cell_type": "code",
   "execution_count": 30,
   "id": "4750863a-783a-44a5-828d-c87c0619dfea",
   "metadata": {},
   "outputs": [
    {
     "data": {
      "text/plain": [
       "252"
      ]
     },
     "execution_count": 30,
     "metadata": {},
     "output_type": "execute_result"
    }
   ],
   "source": [
    "d3[1]"
   ]
  },
  {
   "cell_type": "code",
   "execution_count": 32,
   "id": "e4577cdf-3e2a-4614-8bba-1e9c6d2f58f5",
   "metadata": {},
   "outputs": [],
   "source": [
    "d5={'name':\"fazal\",'mail_id':\"ss@sajqwb\",\"name\":\"mdfazal\"}"
   ]
  },
  {
   "cell_type": "code",
   "execution_count": 34,
   "id": "67100db2-362d-4bbf-b22b-022a5255e6ec",
   "metadata": {},
   "outputs": [
    {
     "data": {
      "text/plain": [
       "'mdfazal'"
      ]
     },
     "execution_count": 34,
     "metadata": {},
     "output_type": "execute_result"
    }
   ],
   "source": [
    "d5['name']"
   ]
  },
  {
   "cell_type": "code",
   "execution_count": 36,
   "id": "0e4e7b4f-862d-4817-b9ce-01da252f6e25",
   "metadata": {},
   "outputs": [],
   "source": [
    "d6={'company':\"pwskills\",\"course\":[\"web dev\",\"data\",\"java with dsa system\"]}"
   ]
  },
  {
   "cell_type": "code",
   "execution_count": 38,
   "id": "9eb42386-53de-4511-912a-b76534667d12",
   "metadata": {},
   "outputs": [
    {
     "data": {
      "text/plain": [
       "{'company': 'pwskills', 'course': ['web dev', 'data', 'java with dsa system']}"
      ]
     },
     "execution_count": 38,
     "metadata": {},
     "output_type": "execute_result"
    }
   ],
   "source": [
    "d6"
   ]
  },
  {
   "cell_type": "code",
   "execution_count": 42,
   "id": "d48e46eb-e826-4096-a930-6daa85c1a437",
   "metadata": {},
   "outputs": [
    {
     "data": {
      "text/plain": [
       "'java with dsa system'"
      ]
     },
     "execution_count": 42,
     "metadata": {},
     "output_type": "execute_result"
    }
   ],
   "source": [
    "d6[\"course\"][2]"
   ]
  },
  {
   "cell_type": "code",
   "execution_count": 48,
   "id": "5c89f5a2-f66e-4355-80e4-6f9794d51af5",
   "metadata": {},
   "outputs": [],
   "source": [
    "d7={\"number\":[3,23,42,4,4],\"asssingment\":(1,3,1,34,4,),\"launch_date\":{28,23,12},\"classs_timing\":{\"web_dev\":4,\"datascience\":3,\"jawa\":7}}"
   ]
  },
  {
   "cell_type": "code",
   "execution_count": 50,
   "id": "71fe2f12-4fd1-4533-9c67-85af17fa12bf",
   "metadata": {},
   "outputs": [
    {
     "data": {
      "text/plain": [
       "{'number': [3, 23, 42, 4, 4],\n",
       " 'asssingment': (1, 3, 1, 34, 4),\n",
       " 'launch_date': {12, 23, 28},\n",
       " 'classs_timing': {'web_dev': 4, 'datascience': 3, 'jawa': 7}}"
      ]
     },
     "execution_count": 50,
     "metadata": {},
     "output_type": "execute_result"
    }
   ],
   "source": [
    "d7"
   ]
  },
  {
   "cell_type": "code",
   "execution_count": 62,
   "id": "4b6211d0-7d2c-4b5b-b76f-ab33b7dfbedd",
   "metadata": {},
   "outputs": [
    {
     "data": {
      "text/plain": [
       "dict_keys(['company', 'course'])"
      ]
     },
     "execution_count": 62,
     "metadata": {},
     "output_type": "execute_result"
    }
   ],
   "source": [
    "d6.keys()"
   ]
  },
  {
   "cell_type": "code",
   "execution_count": 64,
   "id": "d1e43f71-9059-4d57-9b9e-3b574f7a1db8",
   "metadata": {},
   "outputs": [],
   "source": [
    "del d7['number']"
   ]
  },
  {
   "cell_type": "code",
   "execution_count": 66,
   "id": "96ed5858-7528-49e6-bcaa-a320ee0fecac",
   "metadata": {},
   "outputs": [
    {
     "data": {
      "text/plain": [
       "{'asssingment': (1, 3, 1, 34, 4),\n",
       " 'launch_date': {12, 23, 28},\n",
       " 'classs_timing': {'web_dev': 4, 'datascience': 3, 'jawa': 7}}"
      ]
     },
     "execution_count": 66,
     "metadata": {},
     "output_type": "execute_result"
    }
   ],
   "source": [
    "d7"
   ]
  },
  {
   "cell_type": "code",
   "execution_count": 70,
   "id": "94f0f548-b2a4-4747-938d-fd597e1dd9c2",
   "metadata": {},
   "outputs": [
    {
     "data": {
      "text/plain": [
       "['asssingment', 'launch_date', 'classs_timing']"
      ]
     },
     "execution_count": 70,
     "metadata": {},
     "output_type": "execute_result"
    }
   ],
   "source": [
    "list(d7.keys())"
   ]
  },
  {
   "cell_type": "code",
   "execution_count": 76,
   "id": "e2ca818e-7bb2-47ea-8c96-74c2dff7e876",
   "metadata": {},
   "outputs": [
    {
     "data": {
      "text/plain": [
       "[(1, 3, 1, 34, 4), {12, 23, 28}, {'web_dev': 4, 'datascience': 3, 'jawa': 7}]"
      ]
     },
     "execution_count": 76,
     "metadata": {},
     "output_type": "execute_result"
    }
   ],
   "source": [
    "list(d7.values())"
   ]
  },
  {
   "cell_type": "code",
   "execution_count": 74,
   "id": "0ef316f4-0345-4097-b0d2-4e2545acf10c",
   "metadata": {},
   "outputs": [
    {
     "data": {
      "text/plain": [
       "[('asssingment', (1, 3, 1, 34, 4)),\n",
       " ('launch_date', {12, 23, 28}),\n",
       " ('classs_timing', {'web_dev': 4, 'datascience': 3, 'jawa': 7})]"
      ]
     },
     "execution_count": 74,
     "metadata": {},
     "output_type": "execute_result"
    }
   ],
   "source": [
    "list(d7.items())"
   ]
  },
  {
   "cell_type": "code",
   "execution_count": 80,
   "id": "dfe9a598-302d-44d1-a447-462053d3a181",
   "metadata": {},
   "outputs": [
    {
     "data": {
      "text/plain": [
       "(1, 3, 1, 34, 4)"
      ]
     },
     "execution_count": 80,
     "metadata": {},
     "output_type": "execute_result"
    }
   ],
   "source": [
    "d7.pop(\"asssingment\")"
   ]
  },
  {
   "cell_type": "code",
   "execution_count": 82,
   "id": "398ca063-0a77-4657-a4e8-7a3a9cc131b9",
   "metadata": {},
   "outputs": [
    {
     "data": {
      "text/plain": [
       "{'launch_date': {12, 23, 28},\n",
       " 'classs_timing': {'web_dev': 4, 'datascience': 3, 'jawa': 7}}"
      ]
     },
     "execution_count": 82,
     "metadata": {},
     "output_type": "execute_result"
    }
   ],
   "source": [
    "d7"
   ]
  },
  {
   "cell_type": "code",
   "execution_count": 98,
   "id": "3dd6338d-ff69-4158-8716-83a4a2108cbd",
   "metadata": {},
   "outputs": [
    {
     "name": "stdin",
     "output_type": "stream",
     "text": [
      "enter your marks 90\n"
     ]
    },
    {
     "name": "stdout",
     "output_type": "stream",
     "text": [
      "you will be a part of A0 batch\n"
     ]
    }
   ],
   "source": [
    "marks = int(input(\"enter your marks\"))\n",
    "if marks >=80:\n",
    "    print(\"you will be a part of A0 batch\")\n",
    "elif marks >60 and marks <80:\n",
    "    print(\"you will be a part of A1 batch\")\n",
    "elif marks >=40 and marks <60:\n",
    "    print(\"you will be a part of A2 batch\")\n",
    "else:\n",
    "    print(\"you will be a part of A3 batch\")"
   ]
  },
  {
   "cell_type": "code",
   "execution_count": 92,
   "id": "60a5239b-bae9-4972-926a-e916821e8fa0",
   "metadata": {},
   "outputs": [
    {
     "name": "stdin",
     "output_type": "stream",
     "text": [
      "enter your marks 45\n"
     ]
    }
   ],
   "source": [
    "marks = int(input(\"enter your marks\"))"
   ]
  },
  {
   "cell_type": "code",
   "execution_count": 94,
   "id": "d5305a7b-9f5d-435f-9500-264375a2caa9",
   "metadata": {},
   "outputs": [
    {
     "data": {
      "text/plain": [
       "45"
      ]
     },
     "execution_count": 94,
     "metadata": {},
     "output_type": "execute_result"
    }
   ],
   "source": [
    "marks"
   ]
  },
  {
   "cell_type": "code",
   "execution_count": 102,
   "id": "a1e4dd79-36d7-497a-94c1-43059661f94e",
   "metadata": {},
   "outputs": [
    {
     "name": "stdin",
     "output_type": "stream",
     "text": [
      "enter price 500\n"
     ]
    },
    {
     "name": "stdout",
     "output_type": "stream",
     "text": [
      "i will purchase\n"
     ]
    }
   ],
   "source": [
    "price = int(input(\"enter price\"))\n",
    "if price >1000:\n",
    "     print(\"i will not purchase\")\n",
    "else:\n",
    "    print(\"i will purchase\")"
   ]
  },
  {
   "cell_type": "code",
   "execution_count": 106,
   "id": "09d56a23-b826-402a-84ca-7d32f95bc908",
   "metadata": {},
   "outputs": [
    {
     "name": "stdin",
     "output_type": "stream",
     "text": [
      "enter price 200\n"
     ]
    }
   ],
   "source": [
    "price = int(input(\"enter price\"))\n",
    "if price >1000:\n",
    "     print(\"i will not purchase\")"
   ]
  },
  {
   "cell_type": "code",
   "execution_count": 108,
   "id": "2a678aed-fbe4-4594-b8a7-140e29f74aa2",
   "metadata": {},
   "outputs": [
    {
     "name": "stdin",
     "output_type": "stream",
     "text": [
      "enter price 7000\n"
     ]
    },
    {
     "name": "stdout",
     "output_type": "stream",
     "text": [
      "i will not purchase\n",
      "this is to much\n"
     ]
    }
   ],
   "source": [
    "price = int(input(\"enter price\"))\n",
    "if price >1000:\n",
    "     print(\"i will not purchase\")\n",
    "if price >5000:\n",
    "    print(\"this is to much\")"
   ]
  },
  {
   "cell_type": "code",
   "execution_count": 112,
   "id": "fdccb2e1-33c9-4abb-a112-57b45080b2af",
   "metadata": {},
   "outputs": [],
   "source": [
    "l=[1,2,3,3,4,5,6,7,8]"
   ]
  },
  {
   "cell_type": "code",
   "execution_count": 128,
   "id": "bf37e1b1-3db5-4883-9835-4f56c3d97648",
   "metadata": {},
   "outputs": [
    {
     "name": "stdout",
     "output_type": "stream",
     "text": [
      "2\n",
      "3\n",
      "4\n",
      "4\n",
      "5\n",
      "6\n",
      "7\n",
      "8\n",
      "9\n"
     ]
    },
    {
     "data": {
      "text/plain": [
       "[2, 3, 4, 4, 5, 6, 7, 8, 9]"
      ]
     },
     "execution_count": 128,
     "metadata": {},
     "output_type": "execute_result"
    }
   ],
   "source": [
    "l1 = []\n",
    "for i in l :\n",
    "    print(i+1)\n",
    "    l1.append(i+1)\n",
    "l1"
   ]
  },
  {
   "cell_type": "code",
   "execution_count": 130,
   "id": "822c7135-a064-4568-b6dc-4aa1778b5756",
   "metadata": {},
   "outputs": [],
   "source": [
    "l = [\"sudh\",\"md\",\"pwskills\",\"course\"]"
   ]
  },
  {
   "cell_type": "code",
   "execution_count": 136,
   "id": "838b960b-9c9a-42b0-9f77-74969cce9b5b",
   "metadata": {},
   "outputs": [
    {
     "name": "stdout",
     "output_type": "stream",
     "text": [
      "sudh\n",
      "md\n",
      "pwskills\n",
      "course\n"
     ]
    }
   ],
   "source": [
    "l1 = []\n",
    "for i in l:\n",
    "    print(i)\n",
    "    l1.append(i.upper())"
   ]
  },
  {
   "cell_type": "code",
   "execution_count": 138,
   "id": "902e7cc6-bf5b-45af-a0dd-5366c29ff5ec",
   "metadata": {},
   "outputs": [
    {
     "data": {
      "text/plain": [
       "['SUDH', 'MD', 'PWSKILLS', 'COURSE']"
      ]
     },
     "execution_count": 138,
     "metadata": {},
     "output_type": "execute_result"
    }
   ],
   "source": [
    "l1"
   ]
  },
  {
   "cell_type": "code",
   "execution_count": 140,
   "id": "5b62131d-d531-4de4-ae99-3d39200a2950",
   "metadata": {},
   "outputs": [],
   "source": [
    "l =[1,2,3,4,\"fazal\",\"md\",45.45,344,\"bcs\"]"
   ]
  },
  {
   "cell_type": "code",
   "execution_count": 166,
   "id": "ee054987-29e9-4cbf-97e7-2c5a74007b9c",
   "metadata": {},
   "outputs": [],
   "source": [
    "l1_num=[]\n",
    "l2_str=[]\n",
    "for i in l :\n",
    "    if type(i)==int or type(i)== float:\n",
    "        l1_num.append(i)\n",
    "    else :\n",
    "        l2_str.append(i)\n",
    "\n"
   ]
  },
  {
   "cell_type": "code",
   "execution_count": 168,
   "id": "b15de36a-d8f9-4515-a56b-e7178965766a",
   "metadata": {},
   "outputs": [
    {
     "data": {
      "text/plain": [
       "[1, 2, 3, 4, 45.45, 344]"
      ]
     },
     "execution_count": 168,
     "metadata": {},
     "output_type": "execute_result"
    }
   ],
   "source": [
    "l1_num"
   ]
  },
  {
   "cell_type": "code",
   "execution_count": 170,
   "id": "197f13c2-8837-49c4-a76b-414c0a9077b2",
   "metadata": {},
   "outputs": [
    {
     "data": {
      "text/plain": [
       "['fazal', 'md', 'bcs']"
      ]
     },
     "execution_count": 170,
     "metadata": {},
     "output_type": "execute_result"
    }
   ],
   "source": [
    "l2_str"
   ]
  },
  {
   "cell_type": "code",
   "execution_count": null,
   "id": "8a7e325f-f584-4e83-bb0a-d3b0326668d5",
   "metadata": {},
   "outputs": [],
   "source": []
  }
 ],
 "metadata": {
  "kernelspec": {
   "display_name": "Python 3 (ipykernel)",
   "language": "python",
   "name": "python3"
  },
  "language_info": {
   "codemirror_mode": {
    "name": "ipython",
    "version": 3
   },
   "file_extension": ".py",
   "mimetype": "text/x-python",
   "name": "python",
   "nbconvert_exporter": "python",
   "pygments_lexer": "ipython3",
   "version": "3.12.4"
  }
 },
 "nbformat": 4,
 "nbformat_minor": 5
}
